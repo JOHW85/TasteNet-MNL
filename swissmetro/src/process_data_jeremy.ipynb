{
 "cells": [
  {
   "cell_type": "code",
   "execution_count": null,
   "metadata": {},
   "outputs": [],
   "source": [
    "import pandas as pd\n",
    "import numpy as np\n",
    "import sklearn\n",
    "from sklearn import model_selection"
   ]
  },
  {
   "cell_type": "markdown",
   "metadata": {},
   "source": [
    "Person \n",
    "- FIRST: First class traveler (0 = no, 1 = yes)\n",
    "- AGE: 1: age≤24, 2: 24<age≤39, 3: 39<age≤54, 4: 54<age≤ 65, 5: 65 <age, 6: not known\n",
    "- MALE: Traveler’s Gender 0: female, 1: male\n",
    "- INCOME: Traveler’s income per year [thousand CHF] \n",
    "  -- 0 or 1: under 50, 2: between 50 and 100, 3: over 100, 4: unknown\n",
    "  \n",
    "Trip context \n",
    "- PURPOSE: 1: Commuter, 2: Shopping, 3: Business, 4: Leisure, 5: Return from work, 6: Return from shopping, 7: Return from business,  8: Return from leisure, 9: other                          \n",
    "- WHO: Who pays (0: unknown, 1: self, 2: employer, 3: half-half)\n",
    "- LUGGAGE: 0: none, 1: one piece, 3: several pieces\n",
    "\n",
    "Alternative attributes: \n",
    "- GA: Variable capturing the effect of the Swiss annual season ticket for the rail system and most local public transport. It is 1 if the individual owns a GA, zero otherwise. (if GA=1, SM_CO=0, TRAIN_CO=0)\n",
    "\n",
    "- TRAIN_TT: Train travel time [minutes]. Travel times are door-to-door making assumptions about car-based distances\n",
    "- TRAIN_CO: Train cost [CHF]. If the traveler has a GA, this cost equals the cost of the annual ticket.\n",
    "- TRAIN_HE: Train headway [minutes]\n",
    "\n",
    "- SM_TT: SM travel time [minutes] considering the future Swissmetro speed of 500 km/h\n",
    "- SM CO: SM cost [CHF] calculated at the current relevant rail fare, without considering GA, multiplied by a fixed factor (1.2) to reflect the higher speed.\n",
    "- SM_HE: SM headway [minutes]\n",
    "- SM_SEATS: Seats configuration in the Swissmetro (dummy). Airline seats (1) or not (0).\n",
    "\n",
    "- CAR_TT: \n",
    "- CAR_CO: \n",
    "\n",
    "Choice:\n",
    "- CHOICE: Choice indicator. 0: unknown, 1: Train, 2: SM, 3: Car\n",
    "\n",
    "Availability: \n",
    "- TRAIN_AV\n",
    "- CAR_AV\n",
    "- SM_AV                                                     "
   ]
  },
  {
   "cell_type": "code",
   "execution_count": null,
   "metadata": {},
   "outputs": [],
   "source": [
    "def recode(data, var, from_value, to_value, num_levels):\n",
    "    if from_value != None:\n",
    "        data.loc[data[var]==from_value,var]=to_value\n",
    "    dmy = pd.get_dummies(data[var])\n",
    "    dmy.columns = [var+str(\"_\")+str(i) for i in range(num_levels)]\n",
    "    if dmy.columns[0] not in data.columns: # dummies not added yet\n",
    "        data = pd.concat([data, dmy], axis=1)\n",
    "    return data"
   ]
  },
  {
   "cell_type": "code",
   "execution_count": null,
   "metadata": {},
   "outputs": [],
   "source": [
    "def recodeVarMultiLevels(data, var, dic):\n",
    "    for from_value in dic:\n",
    "        data.loc[data[var]==from_value, var]=dic[from_value]\n",
    "    return data\n",
    "\n",
    "def removeLevel(data, var, level):\n",
    "    return data.loc[data[var]!=level]"
   ]
  },
  {
   "cell_type": "code",
   "execution_count": null,
   "metadata": {},
   "outputs": [],
   "source": [
    "def printValueCounts(data, var_list):\n",
    "    for var in var_list:\n",
    "        print (data[var].value_counts())\n",
    "    return\n",
    "\n",
    "def scaleVar(data, var, factor):\n",
    "    data[var]=data[var]*factor"
   ]
  },
  {
   "cell_type": "code",
   "execution_count": null,
   "metadata": {},
   "outputs": [],
   "source": [
    "data = pd.read_csv(\"../data/swissmetro.csv\")"
   ]
  },
  {
   "cell_type": "code",
   "execution_count": null,
   "metadata": {},
   "outputs": [],
   "source": [
    "print (len(data), \"observations\")\n",
    "print (\"car users:\" , data[\"SURVEY\"].sum()/9.0)\n",
    "print (\"rail users:\" , (data[\"SURVEY\"]==0).sum()/9.0)"
   ]
  },
  {
   "cell_type": "code",
   "execution_count": null,
   "metadata": {},
   "outputs": [],
   "source": [
    "## Socio-demo Variables\n",
    "printValueCounts(data, ['AGE','MALE','INCOME','FIRST', 'SM_SEATS'])\n",
    "data = recode(data, 'MALE',None,None,2)\n",
    "# SM_SEATS\n",
    "data = recode(data, 'SM_SEATS',None,None,2)\n",
    "# AGE\n",
    "data = removeLevel(data, 'AGE', 6)\n",
    "data = recode(data, 'AGE',None,None,5)\n",
    "# INCOME\n",
    "data = recode(data, 'INCOME',0,1,4)\n",
    "printValueCounts(data, ['AGE','MALE','INCOME','FIRST'])\n",
    "# FIRST\n",
    "data = recode(data, 'FIRST',None,None,2)"
   ]
  },
  {
   "cell_type": "code",
   "execution_count": null,
   "metadata": {},
   "outputs": [],
   "source": [
    "# GA\n",
    "data = recode(data, 'GA',None,None,2)\n",
    "print (data['GA'].value_counts())"
   ]
  },
  {
   "cell_type": "code",
   "execution_count": null,
   "metadata": {},
   "outputs": [],
   "source": [
    "## Trip context \n",
    "printValueCounts(data, ['WHO','PURPOSE','LUGGAGE'])\n",
    "\n",
    "# WHO\n",
    "data = recode(data, 'WHO', 0,1,3)\n",
    "\n",
    "# PURPOSE\n",
    "# 1: Commuter, 2: Shopping, 3: Business, 4: Leisure, \n",
    "# 5: Return from work, 6: Return from shopping, \n",
    "# 7: Return from business,  8: Return from leisure, 9: other  \n",
    "dic_purp_recode = {5:1, 6:2, 7:3, 8:4}\n",
    "data = recodeVarMultiLevels(data, 'PURPOSE', dic_purp_recode)\n",
    "print (data['PURPOSE'].value_counts())\n",
    "data = removeLevel(data, 'PURPOSE', 9)\n",
    "print (data['PURPOSE'].value_counts())\n",
    "data = recode(data, 'PURPOSE',None,None,4)\n",
    "\n",
    "# LUGGAGE\n",
    "data = recode(data, 'LUGGAGE',None,None,3)\n",
    "print (data['LUGGAGE'].value_counts())"
   ]
  },
  {
   "cell_type": "markdown",
   "metadata": {},
   "source": [
    "### Alternative attributes"
   ]
  },
  {
   "cell_type": "code",
   "execution_count": null,
   "metadata": {},
   "outputs": [],
   "source": [
    "data['SM_CO'] = data['SM_CO'] * (data['GA']==0) # if GA==1, SM_CO=0, o.w. SM_CO=SM_CO\n",
    "data['TRAIN_CO'] = data['TRAIN_CO'] * (data['GA']==0) # if GA==1, SM_CO=0, o.w. SM_CO=SM_CO\n",
    "x_names = ['TRAIN_TT','TRAIN_HE', 'TRAIN_CO', 'SM_TT','SM_HE', 'SM_CO', 'CAR_TT', 'CAR_CO']\n",
    "for var in x_names:\n",
    "    scaleVar(data, var, 0.01)\n",
    "data = removeLevel(data, 'CHOICE', 0)\n",
    "data = recode(data, 'CHOICE', None, None,3)"
   ]
  },
  {
   "cell_type": "code",
   "execution_count": null,
   "metadata": {},
   "outputs": [],
   "source": [
    "# Show all columns\n",
    "pd.set_option('display.max_columns', None)\n",
    "# Create a new column, 'CAR_HE' with all zeros\n",
    "data['CAR_HE'] = 0\n",
    "data.head()"
   ]
  },
  {
   "cell_type": "code",
   "execution_count": null,
   "metadata": {
    "scrolled": true
   },
   "outputs": [],
   "source": [
    "printValueCounts(data, ['CAR_AV', 'TRAIN_AV', 'SM_AV'])"
   ]
  },
  {
   "cell_type": "code",
   "execution_count": null,
   "metadata": {},
   "outputs": [],
   "source": [
    "## Export data\n",
    "from collections import OrderedDict\n",
    "z_levels = OrderedDict()\n",
    "\n",
    "levels = [('MALE',2), ('AGE',5), ('INCOME',4), ('FIRST',2), ('WHO',3), (\"PURPOSE\",4), (\"LUGGAGE\",3), ('GA',2), ('SM_SEATS', 2)]\n",
    "for elem in levels:\n",
    "    z_levels[elem[0]]=elem[1]\n",
    "z_list = [[var+\"_\"+str(i) for i in range(z_levels[var])] for var in z_levels]\n",
    "z_names = []\n",
    "for elem in z_list:\n",
    "    z_names.extend(elem)\n",
    "# get z\n",
    "z = data[z_names].values\n",
    "print (\"z_levels\", z_levels)\n",
    "print (\"z_names\", z_names)"
   ]
  },
  {
   "cell_type": "code",
   "execution_count": null,
   "metadata": {},
   "outputs": [],
   "source": [
    "x_names = ['TRAIN_TT', 'TRAIN_HE', 'TRAIN_CO', 'SM_TT','SM_HE','SM_CO', 'CAR_TT', 'CAR_CO', 'CAR_HE']\n",
    "x = data[x_names].values\n",
    "y = data['CHOICE'].values"
   ]
  },
  {
   "cell_type": "code",
   "execution_count": null,
   "metadata": {},
   "outputs": [],
   "source": [
    "y01 = data[['CHOICE_'+str(i) for i in range(3)]].values\n",
    "ID = data['ID'].values"
   ]
  },
  {
   "cell_type": "code",
   "execution_count": null,
   "metadata": {},
   "outputs": [],
   "source": [
    "car_av = data['CAR_AV'].values"
   ]
  },
  {
   "cell_type": "code",
   "execution_count": null,
   "metadata": {},
   "outputs": [],
   "source": [
    "data_dict = {\"x_names\": x_names, \"x\": x, \"z_names\": z_names, \\\n",
    "             \"z\": z, \"z_levels\": z_levels, \"y01\": y01, \"y\":y, \"ID\": ID, 'car_av': car_av}"
   ]
  },
  {
   "cell_type": "code",
   "execution_count": null,
   "metadata": {},
   "outputs": [],
   "source": [
    "# Show entire numpy array\n",
    "np.set_printoptions(threshold=np.inf)"
   ]
  },
  {
   "cell_type": "code",
   "execution_count": null,
   "metadata": {},
   "outputs": [],
   "source": [
    "data_dict['car_av']"
   ]
  },
  {
   "cell_type": "code",
   "execution_count": null,
   "metadata": {},
   "outputs": [],
   "source": [
    "data_dict['z_names'], data_dict['z'][0]"
   ]
  },
  {
   "cell_type": "code",
   "execution_count": null,
   "metadata": {},
   "outputs": [],
   "source": [
    "import pickle\n",
    "pickle.dump(data_dict, open(\"../data/swissmetro_all_jeremy.pkl\",\"wb\"))"
   ]
  },
  {
   "cell_type": "code",
   "execution_count": null,
   "metadata": {},
   "outputs": [],
   "source": [
    "def split(N):\n",
    "    '''\n",
    "    Split index list = range(N)\n",
    "    '''\n",
    "    train_ind, dev_test_ind = model_selection.train_test_split(range(N), train_size = 0.7, test_size = 0.3, random_state=8)\n",
    "    dev_ind, test_ind = model_selection.train_test_split(dev_test_ind, train_size = 0.5, test_size = 0.5, random_state=9)\n",
    "    print (\"train size:\", len(train_ind))\n",
    "    print (\"dev size:\", len(dev_ind))\n",
    "    print (\"test size:\", len(test_ind))\n",
    "    return train_ind, dev_ind, test_ind\n",
    "\n",
    "def selectData(data, ind):\n",
    "    '''\n",
    "    Select data based on ind list \n",
    "    '''\n",
    "    data_sel = {}\n",
    "    for key in data.keys():\n",
    "        if key in [\"x\", \"y\", \"z\", \"y01\", \"car_av\"]:\n",
    "            data_sel[key] = data[key][ind]\n",
    "        else: # copy parameters over \n",
    "            data_sel[key] = data[key]\n",
    "    return data_sel"
   ]
  },
  {
   "cell_type": "code",
   "execution_count": null,
   "metadata": {},
   "outputs": [],
   "source": [
    "train_ind, dev_ind, test_ind = split(len(x))\n",
    "data_train = selectData(data_dict, train_ind)\n",
    "data_dev = selectData(data_dict, dev_ind)\n",
    "data_test = selectData(data_dict, test_ind)"
   ]
  },
  {
   "cell_type": "code",
   "execution_count": null,
   "metadata": {},
   "outputs": [],
   "source": [
    "data_train_reshaped = data_train.copy()\n",
    "data_dev_reshaped = data_dev.copy()\n",
    "data_test_reshaped = data_test.copy()"
   ]
  },
  {
   "cell_type": "code",
   "execution_count": null,
   "metadata": {},
   "outputs": [],
   "source": [
    "data_train_reshaped['x'] = data_train['x'].reshape(-1,3,3)\n",
    "data_dev_reshaped['x'] = data_dev['x'].reshape(-1,3,3)\n",
    "data_test_reshaped['x'] = data_test['x'].reshape(-1,3,3)"
   ]
  },
  {
   "cell_type": "code",
   "execution_count": 36,
   "metadata": {},
   "outputs": [],
   "source": [
    "import pickle\n",
    "pickle.dump(data_train_reshaped, open(\"../data/train_jeremy.pkl\",\"wb\"))\n",
    "pickle.dump(data_dev_reshaped, open(\"../data/dev_jeremy.pkl\",\"wb\"))\n",
    "pickle.dump(data_test_reshaped, open(\"../data/test_jeremy.pkl\",\"wb\"))"
   ]
  },
  {
   "cell_type": "code",
   "execution_count": 40,
   "metadata": {},
   "outputs": [
    {
     "data": {
      "text/plain": [
       "array([[1.64, 0.3 , 0.84],\n",
       "       [0.68, 0.2 , 1.18],\n",
       "       [1.2 , 0.72, 0.  ]])"
      ]
     },
     "execution_count": 40,
     "metadata": {},
     "output_type": "execute_result"
    }
   ],
   "source": [
    "# Remove last row in data_dev_reshaped['x'][0]\n",
    "data_dev_reshaped['x'][0]"
   ]
  },
  {
   "cell_type": "code",
   "execution_count": 38,
   "metadata": {},
   "outputs": [
    {
     "data": {
      "text/plain": [
       "1"
      ]
     },
     "execution_count": 38,
     "metadata": {},
     "output_type": "execute_result"
    }
   ],
   "source": [
    "data_dev_reshaped['car_av'][0]"
   ]
  },
  {
   "cell_type": "code",
   "execution_count": null,
   "metadata": {},
   "outputs": [],
   "source": []
  }
 ],
 "metadata": {
  "kernelspec": {
   "display_name": "Python 3",
   "language": "python",
   "name": "python3"
  },
  "language_info": {
   "codemirror_mode": {
    "name": "ipython",
    "version": 3
   },
   "file_extension": ".py",
   "mimetype": "text/x-python",
   "name": "python",
   "nbconvert_exporter": "python",
   "pygments_lexer": "ipython3",
   "version": "3.11.2"
  }
 },
 "nbformat": 4,
 "nbformat_minor": 2
}
